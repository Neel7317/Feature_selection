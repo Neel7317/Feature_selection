{
  "nbformat": 4,
  "nbformat_minor": 0,
  "metadata": {
    "colab": {
      "name": "Feature Selection- With Correlation.ipynb",
      "provenance": [],
      "authorship_tag": "ABX9TyN2wHU+NEfoAN3KIrWsFWAV",
      "include_colab_link": true
    },
    "kernelspec": {
      "name": "python3",
      "display_name": "Python 3"
    },
    "language_info": {
      "name": "python"
    }
  },
  "cells": [
    {
      "cell_type": "markdown",
      "metadata": {
        "id": "view-in-github",
        "colab_type": "text"
      },
      "source": [
        "<a href=\"https://colab.research.google.com/github/Neel7317/Feature_selection/blob/main/Feature_Selection_With_Correlation.ipynb\" target=\"_parent\"><img src=\"https://colab.research.google.com/assets/colab-badge.svg\" alt=\"Open In Colab\"/></a>"
      ]
    },
    {
      "cell_type": "markdown",
      "metadata": {
        "id": "3YBgnBxLNLi7"
      },
      "source": [
        "\n",
        "# 2. Feature Selection- With Correlation\n",
        "In this step we will be removing the features which are highly correlated"
      ]
    },
    {
      "cell_type": "code",
      "metadata": {
        "id": "07s7zdBNNKuw"
      },
      "source": [
        "\n",
        "#importing libraries\n",
        "from sklearn.datasets import load_boston\n",
        "import pandas as pd\n",
        "import matplotlib.pyplot as plt"
      ],
      "execution_count": null,
      "outputs": []
    },
    {
      "cell_type": "code",
      "metadata": {
        "id": "dpA00VXwNTWB"
      },
      "source": [
        "#Loading the dataset\n",
        "data = load_boston()\n",
        "df = pd.DataFrame(data.data, columns = data.feature_names)\n",
        "df[\"MEDV\"] = data.target"
      ],
      "execution_count": null,
      "outputs": []
    },
    {
      "cell_type": "code",
      "metadata": {
        "colab": {
          "base_uri": "https://localhost:8080/"
        },
        "id": "c8Flf09oNoiG",
        "outputId": "0ac5dd73-1a49-45f7-a909-b5158f7826bb"
      },
      "source": [
        "\n",
        "data.feature_names"
      ],
      "execution_count": null,
      "outputs": [
        {
          "output_type": "execute_result",
          "data": {
            "text/plain": [
              "array(['CRIM', 'ZN', 'INDUS', 'CHAS', 'NOX', 'RM', 'AGE', 'DIS', 'RAD',\n",
              "       'TAX', 'PTRATIO', 'B', 'LSTAT'], dtype='<U7')"
            ]
          },
          "metadata": {
            "tags": []
          },
          "execution_count": 3
        }
      ]
    },
    {
      "cell_type": "code",
      "metadata": {
        "colab": {
          "base_uri": "https://localhost:8080/",
          "height": 195
        },
        "id": "ol51TMNbNtgA",
        "outputId": "a432c2dc-2af7-46d4-e431-0915669bc8ea"
      },
      "source": [
        "df.head()"
      ],
      "execution_count": null,
      "outputs": [
        {
          "output_type": "execute_result",
          "data": {
            "text/html": [
              "<div>\n",
              "<style scoped>\n",
              "    .dataframe tbody tr th:only-of-type {\n",
              "        vertical-align: middle;\n",
              "    }\n",
              "\n",
              "    .dataframe tbody tr th {\n",
              "        vertical-align: top;\n",
              "    }\n",
              "\n",
              "    .dataframe thead th {\n",
              "        text-align: right;\n",
              "    }\n",
              "</style>\n",
              "<table border=\"1\" class=\"dataframe\">\n",
              "  <thead>\n",
              "    <tr style=\"text-align: right;\">\n",
              "      <th></th>\n",
              "      <th>CRIM</th>\n",
              "      <th>ZN</th>\n",
              "      <th>INDUS</th>\n",
              "      <th>CHAS</th>\n",
              "      <th>NOX</th>\n",
              "      <th>RM</th>\n",
              "      <th>AGE</th>\n",
              "      <th>DIS</th>\n",
              "      <th>RAD</th>\n",
              "      <th>TAX</th>\n",
              "      <th>PTRATIO</th>\n",
              "      <th>B</th>\n",
              "      <th>LSTAT</th>\n",
              "      <th>MEDV</th>\n",
              "    </tr>\n",
              "  </thead>\n",
              "  <tbody>\n",
              "    <tr>\n",
              "      <th>0</th>\n",
              "      <td>0.00632</td>\n",
              "      <td>18.0</td>\n",
              "      <td>2.31</td>\n",
              "      <td>0.0</td>\n",
              "      <td>0.538</td>\n",
              "      <td>6.575</td>\n",
              "      <td>65.2</td>\n",
              "      <td>4.0900</td>\n",
              "      <td>1.0</td>\n",
              "      <td>296.0</td>\n",
              "      <td>15.3</td>\n",
              "      <td>396.90</td>\n",
              "      <td>4.98</td>\n",
              "      <td>24.0</td>\n",
              "    </tr>\n",
              "    <tr>\n",
              "      <th>1</th>\n",
              "      <td>0.02731</td>\n",
              "      <td>0.0</td>\n",
              "      <td>7.07</td>\n",
              "      <td>0.0</td>\n",
              "      <td>0.469</td>\n",
              "      <td>6.421</td>\n",
              "      <td>78.9</td>\n",
              "      <td>4.9671</td>\n",
              "      <td>2.0</td>\n",
              "      <td>242.0</td>\n",
              "      <td>17.8</td>\n",
              "      <td>396.90</td>\n",
              "      <td>9.14</td>\n",
              "      <td>21.6</td>\n",
              "    </tr>\n",
              "    <tr>\n",
              "      <th>2</th>\n",
              "      <td>0.02729</td>\n",
              "      <td>0.0</td>\n",
              "      <td>7.07</td>\n",
              "      <td>0.0</td>\n",
              "      <td>0.469</td>\n",
              "      <td>7.185</td>\n",
              "      <td>61.1</td>\n",
              "      <td>4.9671</td>\n",
              "      <td>2.0</td>\n",
              "      <td>242.0</td>\n",
              "      <td>17.8</td>\n",
              "      <td>392.83</td>\n",
              "      <td>4.03</td>\n",
              "      <td>34.7</td>\n",
              "    </tr>\n",
              "    <tr>\n",
              "      <th>3</th>\n",
              "      <td>0.03237</td>\n",
              "      <td>0.0</td>\n",
              "      <td>2.18</td>\n",
              "      <td>0.0</td>\n",
              "      <td>0.458</td>\n",
              "      <td>6.998</td>\n",
              "      <td>45.8</td>\n",
              "      <td>6.0622</td>\n",
              "      <td>3.0</td>\n",
              "      <td>222.0</td>\n",
              "      <td>18.7</td>\n",
              "      <td>394.63</td>\n",
              "      <td>2.94</td>\n",
              "      <td>33.4</td>\n",
              "    </tr>\n",
              "    <tr>\n",
              "      <th>4</th>\n",
              "      <td>0.06905</td>\n",
              "      <td>0.0</td>\n",
              "      <td>2.18</td>\n",
              "      <td>0.0</td>\n",
              "      <td>0.458</td>\n",
              "      <td>7.147</td>\n",
              "      <td>54.2</td>\n",
              "      <td>6.0622</td>\n",
              "      <td>3.0</td>\n",
              "      <td>222.0</td>\n",
              "      <td>18.7</td>\n",
              "      <td>396.90</td>\n",
              "      <td>5.33</td>\n",
              "      <td>36.2</td>\n",
              "    </tr>\n",
              "  </tbody>\n",
              "</table>\n",
              "</div>"
            ],
            "text/plain": [
              "      CRIM    ZN  INDUS  CHAS    NOX  ...    TAX  PTRATIO       B  LSTAT  MEDV\n",
              "0  0.00632  18.0   2.31   0.0  0.538  ...  296.0     15.3  396.90   4.98  24.0\n",
              "1  0.02731   0.0   7.07   0.0  0.469  ...  242.0     17.8  396.90   9.14  21.6\n",
              "2  0.02729   0.0   7.07   0.0  0.469  ...  242.0     17.8  392.83   4.03  34.7\n",
              "3  0.03237   0.0   2.18   0.0  0.458  ...  222.0     18.7  394.63   2.94  33.4\n",
              "4  0.06905   0.0   2.18   0.0  0.458  ...  222.0     18.7  396.90   5.33  36.2\n",
              "\n",
              "[5 rows x 14 columns]"
            ]
          },
          "metadata": {
            "tags": []
          },
          "execution_count": 4
        }
      ]
    },
    {
      "cell_type": "code",
      "metadata": {
        "id": "OFPsYYyQNwVa"
      },
      "source": [
        "X = df.drop(\"MEDV\",axis=1)   #Feature Matrix\n",
        "y = df[\"MEDV\"]"
      ],
      "execution_count": null,
      "outputs": []
    },
    {
      "cell_type": "code",
      "metadata": {
        "colab": {
          "base_uri": "https://localhost:8080/"
        },
        "id": "0hu_QkMaN0Ml",
        "outputId": "4b215cf0-733b-4ada-fe0d-a9973063de37"
      },
      "source": [
        "# separate dataset into train and test\n",
        "from sklearn.model_selection import train_test_split\n",
        "X_train, X_test, y_train, y_test = train_test_split(\n",
        "    X,\n",
        "    y,\n",
        "    test_size=0.3,\n",
        "    random_state=0)\n",
        "\n",
        "X_train.shape, X_test.shape"
      ],
      "execution_count": null,
      "outputs": [
        {
          "output_type": "execute_result",
          "data": {
            "text/plain": [
              "((354, 13), (152, 13))"
            ]
          },
          "metadata": {
            "tags": []
          },
          "execution_count": 6
        }
      ]
    },
    {
      "cell_type": "code",
      "metadata": {
        "colab": {
          "base_uri": "https://localhost:8080/",
          "height": 433
        },
        "id": "yQ0UK5GwN3np",
        "outputId": "bc3f136a-18f8-4175-ac57-32eb7692b573"
      },
      "source": [
        "X_train.corr()"
      ],
      "execution_count": null,
      "outputs": [
        {
          "output_type": "execute_result",
          "data": {
            "text/html": [
              "<div>\n",
              "<style scoped>\n",
              "    .dataframe tbody tr th:only-of-type {\n",
              "        vertical-align: middle;\n",
              "    }\n",
              "\n",
              "    .dataframe tbody tr th {\n",
              "        vertical-align: top;\n",
              "    }\n",
              "\n",
              "    .dataframe thead th {\n",
              "        text-align: right;\n",
              "    }\n",
              "</style>\n",
              "<table border=\"1\" class=\"dataframe\">\n",
              "  <thead>\n",
              "    <tr style=\"text-align: right;\">\n",
              "      <th></th>\n",
              "      <th>CRIM</th>\n",
              "      <th>ZN</th>\n",
              "      <th>INDUS</th>\n",
              "      <th>CHAS</th>\n",
              "      <th>NOX</th>\n",
              "      <th>RM</th>\n",
              "      <th>AGE</th>\n",
              "      <th>DIS</th>\n",
              "      <th>RAD</th>\n",
              "      <th>TAX</th>\n",
              "      <th>PTRATIO</th>\n",
              "      <th>B</th>\n",
              "      <th>LSTAT</th>\n",
              "    </tr>\n",
              "  </thead>\n",
              "  <tbody>\n",
              "    <tr>\n",
              "      <th>CRIM</th>\n",
              "      <td>1.000000</td>\n",
              "      <td>-0.196172</td>\n",
              "      <td>0.382073</td>\n",
              "      <td>-0.049364</td>\n",
              "      <td>0.416560</td>\n",
              "      <td>-0.188280</td>\n",
              "      <td>0.329927</td>\n",
              "      <td>-0.355840</td>\n",
              "      <td>0.603880</td>\n",
              "      <td>0.560570</td>\n",
              "      <td>0.264780</td>\n",
              "      <td>-0.299525</td>\n",
              "      <td>0.439369</td>\n",
              "    </tr>\n",
              "    <tr>\n",
              "      <th>ZN</th>\n",
              "      <td>-0.196172</td>\n",
              "      <td>1.000000</td>\n",
              "      <td>-0.529392</td>\n",
              "      <td>-0.063863</td>\n",
              "      <td>-0.523572</td>\n",
              "      <td>0.319260</td>\n",
              "      <td>-0.583885</td>\n",
              "      <td>0.658331</td>\n",
              "      <td>-0.314833</td>\n",
              "      <td>-0.327834</td>\n",
              "      <td>-0.392838</td>\n",
              "      <td>0.164641</td>\n",
              "      <td>-0.429178</td>\n",
              "    </tr>\n",
              "    <tr>\n",
              "      <th>INDUS</th>\n",
              "      <td>0.382073</td>\n",
              "      <td>-0.529392</td>\n",
              "      <td>1.000000</td>\n",
              "      <td>0.044224</td>\n",
              "      <td>0.750218</td>\n",
              "      <td>-0.392969</td>\n",
              "      <td>0.629257</td>\n",
              "      <td>-0.686848</td>\n",
              "      <td>0.578459</td>\n",
              "      <td>0.719038</td>\n",
              "      <td>0.388353</td>\n",
              "      <td>-0.331638</td>\n",
              "      <td>0.603374</td>\n",
              "    </tr>\n",
              "    <tr>\n",
              "      <th>CHAS</th>\n",
              "      <td>-0.049364</td>\n",
              "      <td>-0.063863</td>\n",
              "      <td>0.044224</td>\n",
              "      <td>1.000000</td>\n",
              "      <td>0.043748</td>\n",
              "      <td>0.088125</td>\n",
              "      <td>0.067269</td>\n",
              "      <td>-0.085492</td>\n",
              "      <td>0.022338</td>\n",
              "      <td>-0.017156</td>\n",
              "      <td>-0.072683</td>\n",
              "      <td>0.069682</td>\n",
              "      <td>-0.059060</td>\n",
              "    </tr>\n",
              "    <tr>\n",
              "      <th>NOX</th>\n",
              "      <td>0.416560</td>\n",
              "      <td>-0.523572</td>\n",
              "      <td>0.750218</td>\n",
              "      <td>0.043748</td>\n",
              "      <td>1.000000</td>\n",
              "      <td>-0.279202</td>\n",
              "      <td>0.740052</td>\n",
              "      <td>-0.765753</td>\n",
              "      <td>0.627188</td>\n",
              "      <td>0.683445</td>\n",
              "      <td>0.179046</td>\n",
              "      <td>-0.369445</td>\n",
              "      <td>0.577154</td>\n",
              "    </tr>\n",
              "    <tr>\n",
              "      <th>RM</th>\n",
              "      <td>-0.188280</td>\n",
              "      <td>0.319260</td>\n",
              "      <td>-0.392969</td>\n",
              "      <td>0.088125</td>\n",
              "      <td>-0.279202</td>\n",
              "      <td>1.000000</td>\n",
              "      <td>-0.235839</td>\n",
              "      <td>0.183857</td>\n",
              "      <td>-0.179242</td>\n",
              "      <td>-0.275242</td>\n",
              "      <td>-0.385526</td>\n",
              "      <td>0.157459</td>\n",
              "      <td>-0.623920</td>\n",
              "    </tr>\n",
              "    <tr>\n",
              "      <th>AGE</th>\n",
              "      <td>0.329927</td>\n",
              "      <td>-0.583885</td>\n",
              "      <td>0.629257</td>\n",
              "      <td>0.067269</td>\n",
              "      <td>0.740052</td>\n",
              "      <td>-0.235839</td>\n",
              "      <td>1.000000</td>\n",
              "      <td>-0.761543</td>\n",
              "      <td>0.440578</td>\n",
              "      <td>0.502429</td>\n",
              "      <td>0.239729</td>\n",
              "      <td>-0.250416</td>\n",
              "      <td>0.606530</td>\n",
              "    </tr>\n",
              "    <tr>\n",
              "      <th>DIS</th>\n",
              "      <td>-0.355840</td>\n",
              "      <td>0.658331</td>\n",
              "      <td>-0.686848</td>\n",
              "      <td>-0.085492</td>\n",
              "      <td>-0.765753</td>\n",
              "      <td>0.183857</td>\n",
              "      <td>-0.761543</td>\n",
              "      <td>1.000000</td>\n",
              "      <td>-0.467653</td>\n",
              "      <td>-0.519643</td>\n",
              "      <td>-0.176620</td>\n",
              "      <td>0.248376</td>\n",
              "      <td>-0.501780</td>\n",
              "    </tr>\n",
              "    <tr>\n",
              "      <th>RAD</th>\n",
              "      <td>0.603880</td>\n",
              "      <td>-0.314833</td>\n",
              "      <td>0.578459</td>\n",
              "      <td>0.022338</td>\n",
              "      <td>0.627188</td>\n",
              "      <td>-0.179242</td>\n",
              "      <td>0.440578</td>\n",
              "      <td>-0.467653</td>\n",
              "      <td>1.000000</td>\n",
              "      <td>0.907455</td>\n",
              "      <td>0.437687</td>\n",
              "      <td>-0.415325</td>\n",
              "      <td>0.442783</td>\n",
              "    </tr>\n",
              "    <tr>\n",
              "      <th>TAX</th>\n",
              "      <td>0.560570</td>\n",
              "      <td>-0.327834</td>\n",
              "      <td>0.719038</td>\n",
              "      <td>-0.017156</td>\n",
              "      <td>0.683445</td>\n",
              "      <td>-0.275242</td>\n",
              "      <td>0.502429</td>\n",
              "      <td>-0.519643</td>\n",
              "      <td>0.907455</td>\n",
              "      <td>1.000000</td>\n",
              "      <td>0.447518</td>\n",
              "      <td>-0.412145</td>\n",
              "      <td>0.515905</td>\n",
              "    </tr>\n",
              "    <tr>\n",
              "      <th>PTRATIO</th>\n",
              "      <td>0.264780</td>\n",
              "      <td>-0.392838</td>\n",
              "      <td>0.388353</td>\n",
              "      <td>-0.072683</td>\n",
              "      <td>0.179046</td>\n",
              "      <td>-0.385526</td>\n",
              "      <td>0.239729</td>\n",
              "      <td>-0.176620</td>\n",
              "      <td>0.437687</td>\n",
              "      <td>0.447518</td>\n",
              "      <td>1.000000</td>\n",
              "      <td>-0.145638</td>\n",
              "      <td>0.387752</td>\n",
              "    </tr>\n",
              "    <tr>\n",
              "      <th>B</th>\n",
              "      <td>-0.299525</td>\n",
              "      <td>0.164641</td>\n",
              "      <td>-0.331638</td>\n",
              "      <td>0.069682</td>\n",
              "      <td>-0.369445</td>\n",
              "      <td>0.157459</td>\n",
              "      <td>-0.250416</td>\n",
              "      <td>0.248376</td>\n",
              "      <td>-0.415325</td>\n",
              "      <td>-0.412145</td>\n",
              "      <td>-0.145638</td>\n",
              "      <td>1.000000</td>\n",
              "      <td>-0.365338</td>\n",
              "    </tr>\n",
              "    <tr>\n",
              "      <th>LSTAT</th>\n",
              "      <td>0.439369</td>\n",
              "      <td>-0.429178</td>\n",
              "      <td>0.603374</td>\n",
              "      <td>-0.059060</td>\n",
              "      <td>0.577154</td>\n",
              "      <td>-0.623920</td>\n",
              "      <td>0.606530</td>\n",
              "      <td>-0.501780</td>\n",
              "      <td>0.442783</td>\n",
              "      <td>0.515905</td>\n",
              "      <td>0.387752</td>\n",
              "      <td>-0.365338</td>\n",
              "      <td>1.000000</td>\n",
              "    </tr>\n",
              "  </tbody>\n",
              "</table>\n",
              "</div>"
            ],
            "text/plain": [
              "             CRIM        ZN     INDUS  ...   PTRATIO         B     LSTAT\n",
              "CRIM     1.000000 -0.196172  0.382073  ...  0.264780 -0.299525  0.439369\n",
              "ZN      -0.196172  1.000000 -0.529392  ... -0.392838  0.164641 -0.429178\n",
              "INDUS    0.382073 -0.529392  1.000000  ...  0.388353 -0.331638  0.603374\n",
              "CHAS    -0.049364 -0.063863  0.044224  ... -0.072683  0.069682 -0.059060\n",
              "NOX      0.416560 -0.523572  0.750218  ...  0.179046 -0.369445  0.577154\n",
              "RM      -0.188280  0.319260 -0.392969  ... -0.385526  0.157459 -0.623920\n",
              "AGE      0.329927 -0.583885  0.629257  ...  0.239729 -0.250416  0.606530\n",
              "DIS     -0.355840  0.658331 -0.686848  ... -0.176620  0.248376 -0.501780\n",
              "RAD      0.603880 -0.314833  0.578459  ...  0.437687 -0.415325  0.442783\n",
              "TAX      0.560570 -0.327834  0.719038  ...  0.447518 -0.412145  0.515905\n",
              "PTRATIO  0.264780 -0.392838  0.388353  ...  1.000000 -0.145638  0.387752\n",
              "B       -0.299525  0.164641 -0.331638  ... -0.145638  1.000000 -0.365338\n",
              "LSTAT    0.439369 -0.429178  0.603374  ...  0.387752 -0.365338  1.000000\n",
              "\n",
              "[13 rows x 13 columns]"
            ]
          },
          "metadata": {
            "tags": []
          },
          "execution_count": 7
        }
      ]
    },
    {
      "cell_type": "code",
      "metadata": {
        "id": "oiR5UC4-N-EU"
      },
      "source": [
        "import seaborn as sns\n"
      ],
      "execution_count": null,
      "outputs": []
    },
    {
      "cell_type": "code",
      "metadata": {
        "colab": {
          "base_uri": "https://localhost:8080/",
          "height": 611
        },
        "id": "LYUe7hSyOFzu",
        "outputId": "84b23076-c38b-4543-f3b1-a7ee00790c3f"
      },
      "source": [
        "plt.figure(figsize=(12,10))\n",
        "sns.heatmap(X_train.corr(),annot=True)"
      ],
      "execution_count": null,
      "outputs": [
        {
          "output_type": "execute_result",
          "data": {
            "text/plain": [
              "<matplotlib.axes._subplots.AxesSubplot at 0x7f5f06813410>"
            ]
          },
          "metadata": {
            "tags": []
          },
          "execution_count": 10
        },
        {
          "output_type": "display_data",
          "data": {
            "image/png": "[encoded data removed]",
            "text/plain": [
              "<Figure size 864x720 with 2 Axes>"
            ]
          },
          "metadata": {
            "tags": [],
            "needs_background": "light"
          }
        }
      ]
    },
    {
      "cell_type": "code",
      "metadata": {
        "id": "Z1wPzdcoORoa"
      },
      "source": [
        "# with the following function we can select highly correlated features\n",
        "# it will remove the first feature that is correlated with anything other feature\n",
        "def corr_feature(data,threshold):\n",
        "  corr=set()\n",
        "  corr_matrix=data.corr()\n",
        "  for i in range(len(corr_matrix.columns)):\n",
        "    for j in range(i):\n",
        "      if abs(corr_matrix.iloc[i,j])>threshold:\n",
        "        colname=corr_matrix.columns[i]\n",
        "        corr.add(colname)\n",
        "  return corr\n"
      ],
      "execution_count": null,
      "outputs": []
    },
    {
      "cell_type": "code",
      "metadata": {
        "colab": {
          "base_uri": "https://localhost:8080/"
        },
        "id": "LtWeAOVIP8rq",
        "outputId": "7f5dbc0e-574d-48e1-99ec-64d618e3e17c"
      },
      "source": [
        "co=corr_feature(X_train, 0.7)\n",
        "print(co)"
      ],
      "execution_count": null,
      "outputs": [
        {
          "output_type": "stream",
          "text": [
            "{'NOX', 'DIS', 'AGE', 'TAX'}\n"
          ],
          "name": "stdout"
        }
      ]
    },
    {
      "cell_type": "code",
      "metadata": {
        "colab": {
          "base_uri": "https://localhost:8080/",
          "height": 402
        },
        "id": "LRaxrkH5QFL6",
        "outputId": "748ac87a-287d-4624-9770-01bef2db28ad"
      },
      "source": [
        "X_train.drop(co,axis=1)\n",
        "X_test.drop(co,axis=1)"
      ],
      "execution_count": null,
      "outputs": [
        {
          "output_type": "execute_result",
          "data": {
            "text/html": [
              "<div>\n",
              "<style scoped>\n",
              "    .dataframe tbody tr th:only-of-type {\n",
              "        vertical-align: middle;\n",
              "    }\n",
              "\n",
              "    .dataframe tbody tr th {\n",
              "        vertical-align: top;\n",
              "    }\n",
              "\n",
              "    .dataframe thead th {\n",
              "        text-align: right;\n",
              "    }\n",
              "</style>\n",
              "<table border=\"1\" class=\"dataframe\">\n",
              "  <thead>\n",
              "    <tr style=\"text-align: right;\">\n",
              "      <th></th>\n",
              "      <th>CRIM</th>\n",
              "      <th>ZN</th>\n",
              "      <th>INDUS</th>\n",
              "      <th>CHAS</th>\n",
              "      <th>RM</th>\n",
              "      <th>RAD</th>\n",
              "      <th>PTRATIO</th>\n",
              "      <th>B</th>\n",
              "      <th>LSTAT</th>\n",
              "    </tr>\n",
              "  </thead>\n",
              "  <tbody>\n",
              "    <tr>\n",
              "      <th>329</th>\n",
              "      <td>0.06724</td>\n",
              "      <td>0.0</td>\n",
              "      <td>3.24</td>\n",
              "      <td>0.0</td>\n",
              "      <td>6.333</td>\n",
              "      <td>4.0</td>\n",
              "      <td>16.9</td>\n",
              "      <td>375.21</td>\n",
              "      <td>7.34</td>\n",
              "    </tr>\n",
              "    <tr>\n",
              "      <th>371</th>\n",
              "      <td>9.23230</td>\n",
              "      <td>0.0</td>\n",
              "      <td>18.10</td>\n",
              "      <td>0.0</td>\n",
              "      <td>6.216</td>\n",
              "      <td>24.0</td>\n",
              "      <td>20.2</td>\n",
              "      <td>366.15</td>\n",
              "      <td>9.53</td>\n",
              "    </tr>\n",
              "    <tr>\n",
              "      <th>219</th>\n",
              "      <td>0.11425</td>\n",
              "      <td>0.0</td>\n",
              "      <td>13.89</td>\n",
              "      <td>1.0</td>\n",
              "      <td>6.373</td>\n",
              "      <td>5.0</td>\n",
              "      <td>16.4</td>\n",
              "      <td>393.74</td>\n",
              "      <td>10.50</td>\n",
              "    </tr>\n",
              "    <tr>\n",
              "      <th>403</th>\n",
              "      <td>24.80170</td>\n",
              "      <td>0.0</td>\n",
              "      <td>18.10</td>\n",
              "      <td>0.0</td>\n",
              "      <td>5.349</td>\n",
              "      <td>24.0</td>\n",
              "      <td>20.2</td>\n",
              "      <td>396.90</td>\n",
              "      <td>19.77</td>\n",
              "    </tr>\n",
              "    <tr>\n",
              "      <th>78</th>\n",
              "      <td>0.05646</td>\n",
              "      <td>0.0</td>\n",
              "      <td>12.83</td>\n",
              "      <td>0.0</td>\n",
              "      <td>6.232</td>\n",
              "      <td>5.0</td>\n",
              "      <td>18.7</td>\n",
              "      <td>386.40</td>\n",
              "      <td>12.34</td>\n",
              "    </tr>\n",
              "    <tr>\n",
              "      <th>...</th>\n",
              "      <td>...</td>\n",
              "      <td>...</td>\n",
              "      <td>...</td>\n",
              "      <td>...</td>\n",
              "      <td>...</td>\n",
              "      <td>...</td>\n",
              "      <td>...</td>\n",
              "      <td>...</td>\n",
              "      <td>...</td>\n",
              "    </tr>\n",
              "    <tr>\n",
              "      <th>4</th>\n",
              "      <td>0.06905</td>\n",
              "      <td>0.0</td>\n",
              "      <td>2.18</td>\n",
              "      <td>0.0</td>\n",
              "      <td>7.147</td>\n",
              "      <td>3.0</td>\n",
              "      <td>18.7</td>\n",
              "      <td>396.90</td>\n",
              "      <td>5.33</td>\n",
              "    </tr>\n",
              "    <tr>\n",
              "      <th>428</th>\n",
              "      <td>7.36711</td>\n",
              "      <td>0.0</td>\n",
              "      <td>18.10</td>\n",
              "      <td>0.0</td>\n",
              "      <td>6.193</td>\n",
              "      <td>24.0</td>\n",
              "      <td>20.2</td>\n",
              "      <td>96.73</td>\n",
              "      <td>21.52</td>\n",
              "    </tr>\n",
              "    <tr>\n",
              "      <th>385</th>\n",
              "      <td>16.81180</td>\n",
              "      <td>0.0</td>\n",
              "      <td>18.10</td>\n",
              "      <td>0.0</td>\n",
              "      <td>5.277</td>\n",
              "      <td>24.0</td>\n",
              "      <td>20.2</td>\n",
              "      <td>396.90</td>\n",
              "      <td>30.81</td>\n",
              "    </tr>\n",
              "    <tr>\n",
              "      <th>308</th>\n",
              "      <td>0.49298</td>\n",
              "      <td>0.0</td>\n",
              "      <td>9.90</td>\n",
              "      <td>0.0</td>\n",
              "      <td>6.635</td>\n",
              "      <td>4.0</td>\n",
              "      <td>18.4</td>\n",
              "      <td>396.90</td>\n",
              "      <td>4.54</td>\n",
              "    </tr>\n",
              "    <tr>\n",
              "      <th>5</th>\n",
              "      <td>0.02985</td>\n",
              "      <td>0.0</td>\n",
              "      <td>2.18</td>\n",
              "      <td>0.0</td>\n",
              "      <td>6.430</td>\n",
              "      <td>3.0</td>\n",
              "      <td>18.7</td>\n",
              "      <td>394.12</td>\n",
              "      <td>5.21</td>\n",
              "    </tr>\n",
              "  </tbody>\n",
              "</table>\n",
              "<p>152 rows × 9 columns</p>\n",
              "</div>"
            ],
            "text/plain": [
              "         CRIM   ZN  INDUS  CHAS     RM   RAD  PTRATIO       B  LSTAT\n",
              "329   0.06724  0.0   3.24   0.0  6.333   4.0     16.9  375.21   7.34\n",
              "371   9.23230  0.0  18.10   0.0  6.216  24.0     20.2  366.15   9.53\n",
              "219   0.11425  0.0  13.89   1.0  6.373   5.0     16.4  393.74  10.50\n",
              "403  24.80170  0.0  18.10   0.0  5.349  24.0     20.2  396.90  19.77\n",
              "78    0.05646  0.0  12.83   0.0  6.232   5.0     18.7  386.40  12.34\n",
              "..        ...  ...    ...   ...    ...   ...      ...     ...    ...\n",
              "4     0.06905  0.0   2.18   0.0  7.147   3.0     18.7  396.90   5.33\n",
              "428   7.36711  0.0  18.10   0.0  6.193  24.0     20.2   96.73  21.52\n",
              "385  16.81180  0.0  18.10   0.0  5.277  24.0     20.2  396.90  30.81\n",
              "308   0.49298  0.0   9.90   0.0  6.635   4.0     18.4  396.90   4.54\n",
              "5     0.02985  0.0   2.18   0.0  6.430   3.0     18.7  394.12   5.21\n",
              "\n",
              "[152 rows x 9 columns]"
            ]
          },
          "metadata": {
            "tags": []
          },
          "execution_count": 21
        }
      ]
    },
    {
      "cell_type": "code",
      "metadata": {
        "id": "qSNTV02hQns3"
      },
      "source": [
        "#then apply Ml algo"
      ],
      "execution_count": null,
      "outputs": []
    }
  ]
}